{
 "cells": [
  {
   "cell_type": "markdown",
   "metadata": {},
   "source": [
    "# Gesture Recognition\n",
    "In this group project, you are going to build a 3D Conv model that will be able to predict the 5 gestures correctly. Please import the following libraries to get started. Once you have completed the code you can download the notebook for making a submission."
   ]
  },
  {
   "cell_type": "code",
   "execution_count": 1,
   "metadata": {},
   "outputs": [],
   "source": [
    "import numpy as np\n",
    "import os\n",
    "from imageio import imread\n",
    "from skimage.transform import resize\n",
    "import datetime\n",
    "import os"
   ]
  },
  {
   "cell_type": "code",
   "execution_count": 2,
   "metadata": {},
   "outputs": [],
   "source": [
    "import cv2\n",
    "import matplotlib.pyplot as plt\n",
    "%matplotlib inline"
   ]
  },
  {
   "cell_type": "markdown",
   "metadata": {},
   "source": [
    "We set the random seed so that the results don't vary drastically."
   ]
  },
  {
   "cell_type": "code",
   "execution_count": 3,
   "metadata": {},
   "outputs": [],
   "source": [
    "np.random.seed(30)\n",
    "import random as rn\n",
    "rn.seed(30)\n",
    "from tensorflow import keras\n",
    "import tensorflow as tf\n",
    "tf.random.set_seed(30)"
   ]
  },
  {
   "cell_type": "code",
   "execution_count": 4,
   "metadata": {},
   "outputs": [
    {
     "data": {
      "text/plain": [
       "'2.7.0'"
      ]
     },
     "execution_count": 4,
     "metadata": {},
     "output_type": "execute_result"
    }
   ],
   "source": [
    "tf.__version__"
   ]
  },
  {
   "cell_type": "markdown",
   "metadata": {},
   "source": [
    "In this block, you read the folder names for training and validation. You also set the `batch_size` here. Note that you set the batch size in such a way that you are able to use the GPU in full capacity. You keep increasing the batch size until the machine throws an error."
   ]
  },
  {
   "cell_type": "markdown",
   "metadata": {},
   "source": [
    "**data path: /home/datasets/Project_data**"
   ]
  },
  {
   "cell_type": "code",
   "execution_count": 5,
   "metadata": {},
   "outputs": [],
   "source": [
    "train_doc = np.random.permutation(open('/home/datasets/Project_data/train.csv').readlines())\n",
    "val_doc = np.random.permutation(open('/home/datasets/Project_data/val.csv').readlines())"
   ]
  },
  {
   "cell_type": "markdown",
   "metadata": {},
   "source": [
    "## Generator\n",
    "This is one of the most important part of the code. The overall structure of the generator has been given. In the generator, you are going to preprocess the images as you have images of 2 different dimensions as well as create a batch of video frames. You have to experiment with `img_idx`, `y`,`z` and normalization such that you get high accuracy."
   ]
  },
  {
   "cell_type": "code",
   "execution_count": 17,
   "metadata": {},
   "outputs": [],
   "source": [
    "batch_size = 15\n",
    "img_idx = [x for x in range(0,30,2)]\n",
    "y = 160\n",
    "z = 160\n",
    "input_shape=(len(img_idx),y,z,3)"
   ]
  },
  {
   "cell_type": "code",
   "execution_count": 18,
   "metadata": {},
   "outputs": [],
   "source": [
    "def one_batch_data_generator(source_path, t, batch, batch_size, img_idx, y, z, augment):\n",
    "  batch_data = np.zeros((batch_size,len(img_idx),y,z,3)) # x is the number of images you use for each video, (y,z) is the final size of the input images and 3 is the number of channels RGB\n",
    "  batch_labels = np.zeros((batch_size,5)) # batch_labels is the one hot representation of the output\n",
    "\n",
    "  if augment:\n",
    "    batch_data_augment = np.zeros((batch_size,len(img_idx),y,z,3))\n",
    "\n",
    "  for folder in range(batch_size): # iterate over the batch_size\n",
    "    imgs = os.listdir(source_path+'/'+ t[folder + (batch*batch_size)].split(';')[0]) # read all the images in the folder\n",
    "    for idx,item in enumerate(img_idx): #  Iterate iver the frames/images of a folder to read them in\n",
    "        image = imread(source_path+'/'+ t[folder + (batch*batch_size)].strip().split(';')[0]+'/'+imgs[item]).astype(np.float32)\n",
    "        temp = cv2.resize(image,(z,y))\n",
    "        temp = temp/255 #Normalize data\n",
    "\n",
    "        batch_data[folder,idx,:,:,0] = (temp[:,:,0])  #feed in the image\n",
    "        batch_data[folder,idx,:,:,1] = (temp[:,:,1])  #feed in the image\n",
    "        batch_data[folder,idx,:,:,2] = (temp[:,:,2])  #feed in the image\n",
    "\n",
    "        if augment:\n",
    "          shifted = cv2.warpAffine(image, np.float32([[1, 0, np.random.randint(-30,30)],[0, 1, np.random.randint(-30,30)]]), (image.shape[1], image.shape[0]))\n",
    "\n",
    "          gray = cv2.cvtColor(shifted,cv2.COLOR_BGR2GRAY)\n",
    "\n",
    "          x0, y0 = np.argwhere(gray > 0).min(axis=0)\n",
    "          x1, y1 = np.argwhere(gray > 0).max(axis=0)\n",
    "\n",
    "          # cropping the images to have the targeted gestures and remove the noise from the images.\n",
    "          cropped=shifted[x0:x1,y0:y1,:]\n",
    "\n",
    "          temp=cv2.resize(cropped,(z,y))\n",
    "          temp = temp/255 #Normalize data\n",
    "\n",
    "          batch_data_augment[folder,idx,:,:,0] = (temp[:,:,0])\n",
    "          batch_data_augment[folder,idx,:,:,1] = (temp[:,:,1])\n",
    "          batch_data_augment[folder,idx,:,:,2] = (temp[:,:,2])\n",
    "\n",
    "    batch_labels[folder, int(t[folder + (batch*batch_size)].strip().split(';')[2])] = 1\n",
    "\n",
    "  if augment:\n",
    "    batch_data = np.concatenate([batch_data,batch_data_augment])\n",
    "    batch_labels = np.concatenate([batch_labels,batch_labels])\n",
    "\n",
    "  return (batch_data, batch_labels)"
   ]
  },
  {
   "cell_type": "code",
   "execution_count": 19,
   "metadata": {},
   "outputs": [],
   "source": [
    "def generator(source_path, folder_list, batch_size, augment=False):\n",
    "    print( 'Source path = ', source_path, '; batch size =', batch_size)\n",
    "    while True:\n",
    "        t = np.random.permutation(folder_list)\n",
    "        num_batches = len(folder_list)//batch_size\n",
    "        for batch in range(num_batches): # we iterate over the number of batches\n",
    "          batch_data, batch_labels = one_batch_data_generator(source_path, t, batch, batch_size, img_idx, y, z, augment)\n",
    "          yield batch_data, batch_labels #you yield the batch_data and the batch_labels, remember what does yield do\n",
    "\n",
    "        last_batch_size = len(folder_list)%(batch_size)\n",
    "        if last_batch_size != 0: # we check if any folders remaining after the last batch\n",
    "          batch_data, batch_labels = one_batch_data_generator(source_path, t, num_batches, last_batch_size, img_idx, y, z, augment)\n",
    "          yield batch_data, batch_labels #you yield the batch_data and the batch_labels, remember what does yield do"
   ]
  },
  {
   "cell_type": "markdown",
   "metadata": {},
   "source": [
    "Note here that a video is represented above in the generator as (number of images, height, width, number of channels). Take this into consideration while creating the model architecture."
   ]
  },
  {
   "cell_type": "code",
   "execution_count": 20,
   "metadata": {},
   "outputs": [
    {
     "name": "stdout",
     "output_type": "stream",
     "text": [
      "# training sequences = 663\n",
      "# validation sequences = 100\n",
      "# epochs = 25\n"
     ]
    }
   ],
   "source": [
    "curr_dt_time = datetime.datetime.now()\n",
    "train_path = '/home/datasets/Project_data/train'\n",
    "val_path = '/home/datasets/Project_data/val'\n",
    "num_train_sequences = len(train_doc)\n",
    "print('# training sequences =', num_train_sequences)\n",
    "num_val_sequences = len(val_doc)\n",
    "print('# validation sequences =', num_val_sequences)\n",
    "num_epochs = 25\n",
    "print ('# epochs =', num_epochs)"
   ]
  },
  {
   "cell_type": "markdown",
   "metadata": {},
   "source": [
    "## Model\n",
    "Here you make the model using different functionalities that Keras provides. Remember to use `Conv3D` and `MaxPooling3D` and not `Conv2D` and `Maxpooling2D` for a 3D convolution model. You would want to use `TimeDistributed` while building a Conv2D + RNN model. Also remember that the last layer is the softmax. Design the network in such a way that the model is able to give good accuracy on the least number of parameters so that it can fit in the memory of the webcam."
   ]
  },
  {
   "cell_type": "code",
   "execution_count": 21,
   "metadata": {},
   "outputs": [],
   "source": [
    "from keras.models import Sequential, Model\n",
    "from keras.layers import Dense, GRU, Flatten, TimeDistributed, Flatten, BatchNormalization, Activation, Dropout, GlobalAveragePooling2D, GRU\n",
    "from keras.layers.convolutional import Conv3D, MaxPooling3D\n",
    "from keras.callbacks import ModelCheckpoint, ReduceLROnPlateau, EarlyStopping\n",
    "from tensorflow.keras import optimizers"
   ]
  },
  {
   "cell_type": "code",
   "execution_count": 22,
   "metadata": {},
   "outputs": [],
   "source": [
    "model = Sequential()\n",
    "model.add(Conv3D(16, 3, padding='same',\n",
    "          input_shape=(len(img_idx),y,z,3)))\n",
    "model.add(Activation('relu'))\n",
    "model.add(BatchNormalization())\n",
    "model.add(MaxPooling3D(pool_size=(2, 2, 2)))\n",
    "\n",
    "model.add(Conv3D(32, 2, padding='same'))\n",
    "model.add(Activation('relu'))\n",
    "model.add(BatchNormalization())\n",
    "model.add(MaxPooling3D(pool_size=(2, 2, 2)))\n",
    "\n",
    "model.add(Conv3D(64, 2, padding='same'))\n",
    "model.add(Activation('relu'))\n",
    "model.add(BatchNormalization())\n",
    "model.add(MaxPooling3D(pool_size=(2, 2, 2)))\n",
    "\n",
    "model.add(Conv3D(128, 2, padding='same'))\n",
    "model.add(Activation('relu'))\n",
    "model.add(BatchNormalization())\n",
    "model.add(MaxPooling3D(pool_size=(2, 2, 2),padding='same'))\n",
    "\n",
    "model.add(Flatten())\n",
    "model.add(Dense(128,activation='relu'))\n",
    "model.add(BatchNormalization())\n",
    "model.add(Dropout(0.5))\n",
    "\n",
    "model.add(Dense(64,activation='relu'))\n",
    "model.add(BatchNormalization())\n",
    "model.add(Dropout(0.25))\n",
    "\n",
    "\n",
    "model.add(Dense(5,activation='softmax'))"
   ]
  },
  {
   "cell_type": "markdown",
   "metadata": {},
   "source": [
    "Now that you have written the model, the next step is to `compile` the model. When you print the `summary` of the model, you'll see the total number of parameters you have to train."
   ]
  },
  {
   "cell_type": "code",
   "execution_count": 23,
   "metadata": {
    "scrolled": true
   },
   "outputs": [
    {
     "name": "stdout",
     "output_type": "stream",
     "text": [
      "Model: \"sequential_1\"\n",
      "_________________________________________________________________\n",
      " Layer (type)                Output Shape              Param #   \n",
      "=================================================================\n",
      " conv3d (Conv3D)             (None, 15, 160, 160, 16)  1312      \n",
      "                                                                 \n",
      " activation (Activation)     (None, 15, 160, 160, 16)  0         \n",
      "                                                                 \n",
      " batch_normalization_2 (Batc  (None, 15, 160, 160, 16)  64       \n",
      " hNormalization)                                                 \n",
      "                                                                 \n",
      " max_pooling3d (MaxPooling3D  (None, 7, 80, 80, 16)    0         \n",
      " )                                                               \n",
      "                                                                 \n",
      " conv3d_1 (Conv3D)           (None, 7, 80, 80, 32)     4128      \n",
      "                                                                 \n",
      " activation_1 (Activation)   (None, 7, 80, 80, 32)     0         \n",
      "                                                                 \n",
      " batch_normalization_3 (Batc  (None, 7, 80, 80, 32)    128       \n",
      " hNormalization)                                                 \n",
      "                                                                 \n",
      " max_pooling3d_1 (MaxPooling  (None, 3, 40, 40, 32)    0         \n",
      " 3D)                                                             \n",
      "                                                                 \n",
      " conv3d_2 (Conv3D)           (None, 3, 40, 40, 64)     16448     \n",
      "                                                                 \n",
      " activation_2 (Activation)   (None, 3, 40, 40, 64)     0         \n",
      "                                                                 \n",
      " batch_normalization_4 (Batc  (None, 3, 40, 40, 64)    256       \n",
      " hNormalization)                                                 \n",
      "                                                                 \n",
      " max_pooling3d_2 (MaxPooling  (None, 1, 20, 20, 64)    0         \n",
      " 3D)                                                             \n",
      "                                                                 \n",
      " conv3d_3 (Conv3D)           (None, 1, 20, 20, 128)    65664     \n",
      "                                                                 \n",
      " activation_3 (Activation)   (None, 1, 20, 20, 128)    0         \n",
      "                                                                 \n",
      " batch_normalization_5 (Batc  (None, 1, 20, 20, 128)   512       \n",
      " hNormalization)                                                 \n",
      "                                                                 \n",
      " max_pooling3d_3 (MaxPooling  (None, 1, 10, 10, 128)   0         \n",
      " 3D)                                                             \n",
      "                                                                 \n",
      " flatten_1 (Flatten)         (None, 12800)             0         \n",
      "                                                                 \n",
      " dense_4 (Dense)             (None, 128)               1638528   \n",
      "                                                                 \n",
      " batch_normalization_6 (Batc  (None, 128)              512       \n",
      " hNormalization)                                                 \n",
      "                                                                 \n",
      " dropout (Dropout)           (None, 128)               0         \n",
      "                                                                 \n",
      " dense_5 (Dense)             (None, 64)                8256      \n",
      "                                                                 \n",
      " batch_normalization_7 (Batc  (None, 64)               256       \n",
      " hNormalization)                                                 \n",
      "                                                                 \n",
      " dropout_1 (Dropout)         (None, 64)                0         \n",
      "                                                                 \n",
      " dense_6 (Dense)             (None, 5)                 325       \n",
      "                                                                 \n",
      "=================================================================\n",
      "Total params: 1,736,389\n",
      "Trainable params: 1,735,525\n",
      "Non-trainable params: 864\n",
      "_________________________________________________________________\n",
      "None\n"
     ]
    }
   ],
   "source": [
    "optimiser = optimizers.Adam()\n",
    "model.compile(optimizer=optimiser, loss='categorical_crossentropy', metrics=['categorical_accuracy'])\n",
    "print (model.summary())"
   ]
  },
  {
   "cell_type": "markdown",
   "metadata": {},
   "source": [
    "Let us create the `train_generator` and the `val_generator` which will be used in `.fit_generator`."
   ]
  },
  {
   "cell_type": "code",
   "execution_count": 24,
   "metadata": {},
   "outputs": [],
   "source": [
    "train_generator = generator(train_path, train_doc, batch_size, augment = True)\n",
    "val_generator = generator(val_path, val_doc, batch_size)"
   ]
  },
  {
   "cell_type": "code",
   "execution_count": 25,
   "metadata": {},
   "outputs": [],
   "source": [
    "model_name = 'model_init' + '_' + str(curr_dt_time).replace(' ','').replace(':','_') + '/'\n",
    "\n",
    "if not os.path.exists(model_name):\n",
    "    os.mkdir(model_name)\n",
    "\n",
    "filepath = model_name + 'model-{epoch:05d}-{loss:.5f}-{categorical_accuracy:.5f}-{val_loss:.5f}-{val_categorical_accuracy:.5f}.h5'\n",
    "\n",
    "checkpoint = ModelCheckpoint(filepath, monitor='val_loss', verbose=1, save_best_only=False, save_weights_only=False, mode='auto', save_freq='epoch')\n",
    "\n",
    "LR = ReduceLROnPlateau(monitor='val_loss', factor=0.2, verbose=1, patience=4)\n",
    "earlystop = EarlyStopping( monitor=\"val_loss\", min_delta=0,patience=10,verbose=1)\n",
    "callbacks_list = [checkpoint, LR, earlystop]"
   ]
  },
  {
   "cell_type": "markdown",
   "metadata": {},
   "source": [
    "The `steps_per_epoch` and `validation_steps` are used by `fit` method to decide the number of next() calls it need to make."
   ]
  },
  {
   "cell_type": "code",
   "execution_count": 26,
   "metadata": {},
   "outputs": [],
   "source": [
    "if (num_train_sequences%batch_size) == 0:\n",
    "    steps_per_epoch = int(num_train_sequences/batch_size)\n",
    "else:\n",
    "    steps_per_epoch = (num_train_sequences//batch_size) + 1\n",
    "\n",
    "if (num_val_sequences%batch_size) == 0:\n",
    "    validation_steps = int(num_val_sequences/batch_size)\n",
    "else:\n",
    "    validation_steps = (num_val_sequences//batch_size) + 1"
   ]
  },
  {
   "cell_type": "markdown",
   "metadata": {},
   "source": [
    "Let us now fit the model. This will start training the model and with the help of the checkpoints, you'll be able to save the model at the end of each epoch."
   ]
  },
  {
   "cell_type": "code",
   "execution_count": 27,
   "metadata": {},
   "outputs": [
    {
     "name": "stderr",
     "output_type": "stream",
     "text": [
      "/tmp/ipykernel_303/1846909349.py:5: UserWarning: `Model.fit_generator` is deprecated and will be removed in a future version. Please use `Model.fit`, which supports generators.\n",
      "  model.fit_generator(train_generator, steps_per_epoch=steps_per_epoch, epochs=num_epochs, verbose=1,\n"
     ]
    },
    {
     "name": "stdout",
     "output_type": "stream",
     "text": [
      "Source path =  /home/datasets/Project_data/train ; batch size = 15\n",
      "Epoch 1/25\n",
      "45/45 [==============================] - ETA: 0s - loss: 1.5715 - categorical_accuracy: 0.4072Source path =  /home/datasets/Project_data/val ; batch size = 15\n",
      "\n",
      "Epoch 00001: saving model to model_init_2023-08-3106_19_29.364795/model-00001-1.57154-0.40724-3.11885-0.21000.h5\n",
      "45/45 [==============================] - 87s 2s/step - loss: 1.5715 - categorical_accuracy: 0.4072 - val_loss: 3.1189 - val_categorical_accuracy: 0.2100 - lr: 0.0010\n",
      "Epoch 2/25\n",
      "45/45 [==============================] - ETA: 0s - loss: 1.1091 - categorical_accuracy: 0.5792\n",
      "Epoch 00002: saving model to model_init_2023-08-3106_19_29.364795/model-00002-1.10907-0.57919-4.44324-0.21000.h5\n",
      "45/45 [==============================] - 84s 2s/step - loss: 1.1091 - categorical_accuracy: 0.5792 - val_loss: 4.4432 - val_categorical_accuracy: 0.2100 - lr: 0.0010\n",
      "Epoch 3/25\n",
      "45/45 [==============================] - ETA: 0s - loss: 0.8913 - categorical_accuracy: 0.6667\n",
      "Epoch 00003: saving model to model_init_2023-08-3106_19_29.364795/model-00003-0.89135-0.66667-5.29021-0.22000.h5\n",
      "45/45 [==============================] - 83s 2s/step - loss: 0.8913 - categorical_accuracy: 0.6667 - val_loss: 5.2902 - val_categorical_accuracy: 0.2200 - lr: 0.0010\n",
      "Epoch 4/25\n",
      "45/45 [==============================] - ETA: 0s - loss: 0.6818 - categorical_accuracy: 0.7443\n",
      "Epoch 00004: saving model to model_init_2023-08-3106_19_29.364795/model-00004-0.68182-0.74434-6.23429-0.18000.h5\n",
      "45/45 [==============================] - 82s 2s/step - loss: 0.6818 - categorical_accuracy: 0.7443 - val_loss: 6.2343 - val_categorical_accuracy: 0.1800 - lr: 0.0010\n",
      "Epoch 5/25\n",
      "45/45 [==============================] - ETA: 0s - loss: 0.6439 - categorical_accuracy: 0.7609\n",
      "Epoch 00005: saving model to model_init_2023-08-3106_19_29.364795/model-00005-0.64392-0.76094-5.56929-0.24000.h5\n",
      "\n",
      "Epoch 00005: ReduceLROnPlateau reducing learning rate to 0.00020000000949949026.\n",
      "45/45 [==============================] - 78s 2s/step - loss: 0.6439 - categorical_accuracy: 0.7609 - val_loss: 5.5693 - val_categorical_accuracy: 0.2400 - lr: 0.0010\n",
      "Epoch 6/25\n",
      "45/45 [==============================] - ETA: 0s - loss: 0.5079 - categorical_accuracy: 0.8002\n",
      "Epoch 00006: saving model to model_init_2023-08-3106_19_29.364795/model-00006-0.50793-0.80015-4.64290-0.32000.h5\n",
      "45/45 [==============================] - 77s 2s/step - loss: 0.5079 - categorical_accuracy: 0.8002 - val_loss: 4.6429 - val_categorical_accuracy: 0.3200 - lr: 2.0000e-04\n",
      "Epoch 7/25\n",
      "45/45 [==============================] - ETA: 0s - loss: 0.4118 - categorical_accuracy: 0.8529\n",
      "Epoch 00007: saving model to model_init_2023-08-3106_19_29.364795/model-00007-0.41179-0.85294-3.16728-0.32000.h5\n",
      "45/45 [==============================] - 80s 2s/step - loss: 0.4118 - categorical_accuracy: 0.8529 - val_loss: 3.1673 - val_categorical_accuracy: 0.3200 - lr: 2.0000e-04\n",
      "Epoch 8/25\n",
      "45/45 [==============================] - ETA: 0s - loss: 0.4130 - categorical_accuracy: 0.8499\n",
      "Epoch 00008: saving model to model_init_2023-08-3106_19_29.364795/model-00008-0.41296-0.84992-2.53110-0.34000.h5\n",
      "45/45 [==============================] - 80s 2s/step - loss: 0.4130 - categorical_accuracy: 0.8499 - val_loss: 2.5311 - val_categorical_accuracy: 0.3400 - lr: 2.0000e-04\n",
      "Epoch 9/25\n",
      "45/45 [==============================] - ETA: 0s - loss: 0.3523 - categorical_accuracy: 0.8673\n",
      "Epoch 00009: saving model to model_init_2023-08-3106_19_29.364795/model-00009-0.35228-0.86727-2.11842-0.34000.h5\n",
      "45/45 [==============================] - 80s 2s/step - loss: 0.3523 - categorical_accuracy: 0.8673 - val_loss: 2.1184 - val_categorical_accuracy: 0.3400 - lr: 2.0000e-04\n",
      "Epoch 10/25\n",
      "45/45 [==============================] - ETA: 0s - loss: 0.3386 - categorical_accuracy: 0.8793\n",
      "Epoch 00010: saving model to model_init_2023-08-3106_19_29.364795/model-00010-0.33857-0.87934-1.70530-0.47000.h5\n",
      "45/45 [==============================] - 79s 2s/step - loss: 0.3386 - categorical_accuracy: 0.8793 - val_loss: 1.7053 - val_categorical_accuracy: 0.4700 - lr: 2.0000e-04\n",
      "Epoch 11/25\n",
      "45/45 [==============================] - ETA: 0s - loss: 0.3081 - categorical_accuracy: 0.9012\n",
      "Epoch 00011: saving model to model_init_2023-08-3106_19_29.364795/model-00011-0.30810-0.90121-1.27324-0.55000.h5\n",
      "45/45 [==============================] - 79s 2s/step - loss: 0.3081 - categorical_accuracy: 0.9012 - val_loss: 1.2732 - val_categorical_accuracy: 0.5500 - lr: 2.0000e-04\n",
      "Epoch 12/25\n",
      "45/45 [==============================] - ETA: 0s - loss: 0.2759 - categorical_accuracy: 0.9095\n",
      "Epoch 00012: saving model to model_init_2023-08-3106_19_29.364795/model-00012-0.27587-0.90950-0.80659-0.69000.h5\n",
      "45/45 [==============================] - 78s 2s/step - loss: 0.2759 - categorical_accuracy: 0.9095 - val_loss: 0.8066 - val_categorical_accuracy: 0.6900 - lr: 2.0000e-04\n",
      "Epoch 13/25\n",
      "45/45 [==============================] - ETA: 0s - loss: 0.2893 - categorical_accuracy: 0.9072\n",
      "Epoch 00013: saving model to model_init_2023-08-3106_19_29.364795/model-00013-0.28928-0.90724-1.09062-0.58000.h5\n",
      "45/45 [==============================] - 79s 2s/step - loss: 0.2893 - categorical_accuracy: 0.9072 - val_loss: 1.0906 - val_categorical_accuracy: 0.5800 - lr: 2.0000e-04\n",
      "Epoch 14/25\n",
      "45/45 [==============================] - ETA: 0s - loss: 0.2700 - categorical_accuracy: 0.9125\n",
      "Epoch 00014: saving model to model_init_2023-08-3106_19_29.364795/model-00014-0.26997-0.91252-0.90594-0.66000.h5\n",
      "45/45 [==============================] - 80s 2s/step - loss: 0.2700 - categorical_accuracy: 0.9125 - val_loss: 0.9059 - val_categorical_accuracy: 0.6600 - lr: 2.0000e-04\n",
      "Epoch 15/25\n",
      "45/45 [==============================] - ETA: 0s - loss: 0.2484 - categorical_accuracy: 0.9246\n",
      "Epoch 00015: saving model to model_init_2023-08-3106_19_29.364795/model-00015-0.24837-0.92459-0.58219-0.76000.h5\n",
      "45/45 [==============================] - 77s 2s/step - loss: 0.2484 - categorical_accuracy: 0.9246 - val_loss: 0.5822 - val_categorical_accuracy: 0.7600 - lr: 2.0000e-04\n",
      "Epoch 16/25\n",
      "45/45 [==============================] - ETA: 0s - loss: 0.2482 - categorical_accuracy: 0.9125\n",
      "Epoch 00016: saving model to model_init_2023-08-3106_19_29.364795/model-00016-0.24820-0.91252-0.40192-0.83000.h5\n",
      "45/45 [==============================] - 77s 2s/step - loss: 0.2482 - categorical_accuracy: 0.9125 - val_loss: 0.4019 - val_categorical_accuracy: 0.8300 - lr: 2.0000e-04\n",
      "Epoch 17/25\n",
      "45/45 [==============================] - ETA: 0s - loss: 0.2503 - categorical_accuracy: 0.9178\n",
      "Epoch 00017: saving model to model_init_2023-08-3106_19_29.364795/model-00017-0.25030-0.91780-0.45646-0.82000.h5\n",
      "45/45 [==============================] - 77s 2s/step - loss: 0.2503 - categorical_accuracy: 0.9178 - val_loss: 0.4565 - val_categorical_accuracy: 0.8200 - lr: 2.0000e-04\n",
      "Epoch 18/25\n",
      "45/45 [==============================] - ETA: 0s - loss: 0.2639 - categorical_accuracy: 0.9193\n",
      "Epoch 00018: saving model to model_init_2023-08-3106_19_29.364795/model-00018-0.26386-0.91931-0.46771-0.86000.h5\n",
      "45/45 [==============================] - 78s 2s/step - loss: 0.2639 - categorical_accuracy: 0.9193 - val_loss: 0.4677 - val_categorical_accuracy: 0.8600 - lr: 2.0000e-04\n",
      "Epoch 19/25\n",
      "45/45 [==============================] - ETA: 0s - loss: 0.2272 - categorical_accuracy: 0.9336\n",
      "Epoch 00019: saving model to model_init_2023-08-3106_19_29.364795/model-00019-0.22716-0.93363-0.48144-0.79000.h5\n",
      "45/45 [==============================] - 77s 2s/step - loss: 0.2272 - categorical_accuracy: 0.9336 - val_loss: 0.4814 - val_categorical_accuracy: 0.7900 - lr: 2.0000e-04\n",
      "Epoch 20/25\n",
      "45/45 [==============================] - ETA: 0s - loss: 0.2492 - categorical_accuracy: 0.9178\n",
      "Epoch 00020: saving model to model_init_2023-08-3106_19_29.364795/model-00020-0.24925-0.91780-0.43216-0.83000.h5\n",
      "\n",
      "Epoch 00020: ReduceLROnPlateau reducing learning rate to 4.0000001899898055e-05.\n",
      "45/45 [==============================] - 82s 2s/step - loss: 0.2492 - categorical_accuracy: 0.9178 - val_loss: 0.4322 - val_categorical_accuracy: 0.8300 - lr: 2.0000e-04\n",
      "Epoch 21/25\n",
      "45/45 [==============================] - ETA: 0s - loss: 0.2309 - categorical_accuracy: 0.9276\n",
      "Epoch 00021: saving model to model_init_2023-08-3106_19_29.364795/model-00021-0.23094-0.92760-0.44011-0.84000.h5\n",
      "45/45 [==============================] - 80s 2s/step - loss: 0.2309 - categorical_accuracy: 0.9276 - val_loss: 0.4401 - val_categorical_accuracy: 0.8400 - lr: 4.0000e-05\n",
      "Epoch 22/25\n",
      "45/45 [==============================] - ETA: 0s - loss: 0.2104 - categorical_accuracy: 0.9329\n",
      "Epoch 00022: saving model to model_init_2023-08-3106_19_29.364795/model-00022-0.21043-0.93288-0.38671-0.87000.h5\n",
      "45/45 [==============================] - 79s 2s/step - loss: 0.2104 - categorical_accuracy: 0.9329 - val_loss: 0.3867 - val_categorical_accuracy: 0.8700 - lr: 4.0000e-05\n",
      "Epoch 23/25\n",
      "45/45 [==============================] - ETA: 0s - loss: 0.2334 - categorical_accuracy: 0.9336\n",
      "Epoch 00023: saving model to model_init_2023-08-3106_19_29.364795/model-00023-0.23336-0.93363-0.36496-0.90000.h5\n",
      "45/45 [==============================] - 79s 2s/step - loss: 0.2334 - categorical_accuracy: 0.9336 - val_loss: 0.3650 - val_categorical_accuracy: 0.9000 - lr: 4.0000e-05\n",
      "Epoch 24/25\n",
      "45/45 [==============================] - ETA: 0s - loss: 0.1707 - categorical_accuracy: 0.9502\n",
      "Epoch 00024: saving model to model_init_2023-08-3106_19_29.364795/model-00024-0.17070-0.95023-0.36262-0.87000.h5\n",
      "45/45 [==============================] - 81s 2s/step - loss: 0.1707 - categorical_accuracy: 0.9502 - val_loss: 0.3626 - val_categorical_accuracy: 0.8700 - lr: 4.0000e-05\n",
      "Epoch 25/25\n",
      "45/45 [==============================] - ETA: 0s - loss: 0.1967 - categorical_accuracy: 0.9404\n",
      "Epoch 00025: saving model to model_init_2023-08-3106_19_29.364795/model-00025-0.19666-0.94042-0.29650-0.90000.h5\n",
      "45/45 [==============================] - 80s 2s/step - loss: 0.1967 - categorical_accuracy: 0.9404 - val_loss: 0.2965 - val_categorical_accuracy: 0.9000 - lr: 4.0000e-05\n",
      "Time taken to train module:  1994.297444343567  seconds\n"
     ]
    }
   ],
   "source": [
    "import time\n",
    "\n",
    "start = time.time()\n",
    "\n",
    "model.fit_generator(train_generator, steps_per_epoch=steps_per_epoch, epochs=num_epochs, verbose=1,\n",
    "                    callbacks=callbacks_list, validation_data=val_generator,\n",
    "                    validation_steps=validation_steps, class_weight=None, workers=1, initial_epoch=0,max_queue_size=3000)\n",
    "\n",
    "end = time.time()\n",
    "print(\"Time taken to train module: \", (end - start), \" seconds\")"
   ]
  },
  {
   "cell_type": "code",
   "execution_count": null,
   "metadata": {},
   "outputs": [],
   "source": []
  }
 ],
 "metadata": {
  "kernelspec": {
   "display_name": "Python 3 (ipykernel)",
   "language": "python",
   "name": "python3"
  },
  "language_info": {
   "codemirror_mode": {
    "name": "ipython",
    "version": 3
   },
   "file_extension": ".py",
   "mimetype": "text/x-python",
   "name": "python",
   "nbconvert_exporter": "python",
   "pygments_lexer": "ipython3",
   "version": "3.8.10"
  }
 },
 "nbformat": 4,
 "nbformat_minor": 4
}
